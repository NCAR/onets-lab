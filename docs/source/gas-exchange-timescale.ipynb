{
 "cells": [
  {
   "cell_type": "code",
   "execution_count": 1,
   "id": "4cca2221-546e-4414-b190-4cbe7b22665a",
   "metadata": {},
   "outputs": [],
   "source": [
    "import onets_lab"
   ]
  },
  {
   "cell_type": "code",
   "execution_count": 19,
   "id": "122bfac0-7f87-4bd7-9ac9-9f150ee1e1bc",
   "metadata": {},
   "outputs": [
    {
     "data": {
      "text/plain": [
       "5.683086922475239e-05"
      ]
     },
     "execution_count": 19,
     "metadata": {},
     "output_type": "execute_result"
    }
   ],
   "source": [
    "kw = onets_lab.gasex.gas_transfer_velocity(u10=2.5, temp=20.0) # m/s\n",
    "kw"
   ]
  },
  {
   "cell_type": "code",
   "execution_count": 20,
   "id": "c61c3d6a-dade-459a-a9e4-682729b24a4e",
   "metadata": {},
   "outputs": [],
   "source": [
    "h = 50.0"
   ]
  },
  {
   "cell_type": "code",
   "execution_count": 21,
   "id": "02c3b385-12df-49ae-a654-7d3a336c79fd",
   "metadata": {},
   "outputs": [
    {
     "data": {
      "text/plain": [
       "203.6582271564667"
      ]
     },
     "execution_count": 21,
     "metadata": {},
     "output_type": "execute_result"
    }
   ],
   "source": [
    "dDICdCO2 = 20\n",
    "\n",
    "tau_gas = dDICdCO2 * h / kw / 86400.0\n",
    "tau_gas"
   ]
  },
  {
   "cell_type": "code",
   "execution_count": null,
   "id": "4993357d-394b-46ef-ad73-c698ec6e2044",
   "metadata": {},
   "outputs": [],
   "source": []
  }
 ],
 "metadata": {
  "kernelspec": {
   "display_name": "Python [conda env:onets]",
   "language": "python",
   "name": "conda-env-onets-py"
  },
  "language_info": {
   "codemirror_mode": {
    "name": "ipython",
    "version": 3
   },
   "file_extension": ".py",
   "mimetype": "text/x-python",
   "name": "python",
   "nbconvert_exporter": "python",
   "pygments_lexer": "ipython3",
   "version": "3.10.4"
  }
 },
 "nbformat": 4,
 "nbformat_minor": 5
}
